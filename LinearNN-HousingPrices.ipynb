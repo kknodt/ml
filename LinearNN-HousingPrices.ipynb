{
 "cells": [
  {
   "cell_type": "markdown",
   "metadata": {},
   "source": [
    "\n",
    "# Simple Linear NN\n",
    "\n",
    "# Experiments with outliers and different loss functions\n",
    "\n",
    "Deriviation of: https://github.com/lmoroney/dlaicourse\n"
   ]
  },
  {
   "cell_type": "markdown",
   "metadata": {
    "colab_type": "text",
    "id": "mw2VBrBcgvGa"
   },
   "source": [
    "This example demonstrates a neural network that predicts the price of a house according to a simple formula.\n",
    "\n",
    "So, imagine if house pricing was as easy as a house costs 50k + 50k per bedroom, so that a 1 bedroom house costs 100k, a 2 bedroom house costs 150k etc.\n",
    "\n",
    "How would you create a neural network that learns this relationship so that it would predict a 7 bedroom house as costing close to 400k etc.\n",
    "\n",
    "Note: The network works better if the house prices are scaled down. You don't have to give the answer 400...it might be better to create something that predicts the number 4, and then your answer is in the 'hundreds of thousands' etc."
   ]
  },
  {
   "cell_type": "code",
   "execution_count": null,
   "metadata": {
    "colab": {
     "base_uri": "https://localhost:8080/",
     "height": 33805
    },
    "colab_type": "code",
    "executionInfo": {
     "elapsed": 9075,
     "status": "ok",
     "timestamp": 1560375341025,
     "user": {
      "displayName": "",
      "photoUrl": "",
      "userId": ""
     },
     "user_tz": 420
    },
    "id": "PUNO2E6SeURH",
    "outputId": "a652bbbb-27b5-4992-dbcf-31cb6136246c"
   },
   "outputs": [],
   "source": [
    "import tensorflow as tf\n",
    "import numpy as np\n",
    "from tensorflow import keras\n",
    "tf.logging.set_verbosity(tf.logging.ERROR)\n",
    "\n",
    "model = tf.keras.Sequential([keras.layers.Dense(units=1, input_shape=[1])])\n",
    "# model.compile(optimizer='sgd', loss='mean_squared_error')\n",
    "model.compile(optimizer='sgd', loss='logcosh')\n",
    "xs = np.array([1.0, 2.0, 3.0, 4.0, 5.0, 6.0], dtype=float)\n",
    "ys = np.array([1.0, 1.5, 2.0, 2.5, 3.0, 3.5], dtype=float)\n",
    "model.fit(xs, ys, epochs=1000)\n",
    "print(model.predict([7.0]))"
   ]
  },
  {
   "cell_type": "markdown",
   "metadata": {},
   "source": [
    "\n",
    "This next section will experiment with a different loss function.  The mean_squared_error loss function is especially impacted by outlier samples, whereas the logcosh loss function is less impacted.\n",
    "\n",
    "The sample set has been updated with a 10.0 outlier far off the expected value, and the predictions using MSE and logcosh are compared to see if logcosh works better to predict a 7.0 value with the outlier value in the sample set.\n"
   ]
  },
  {
   "cell_type": "code",
   "execution_count": null,
   "metadata": {
    "colab": {
     "base_uri": "https://localhost:8080/",
     "height": 33805
    },
    "colab_type": "code",
    "executionInfo": {
     "elapsed": 9075,
     "status": "ok",
     "timestamp": 1560375341025,
     "user": {
      "displayName": "",
      "photoUrl": "",
      "userId": ""
     },
     "user_tz": 420
    },
    "id": "PUNO2E6SeURH",
    "outputId": "a652bbbb-27b5-4992-dbcf-31cb6136246c"
   },
   "outputs": [],
   "source": [
    "xs = np.array([1.0, 2.0, 3.0, 4.0, 5.0, 6.0, 10.0, 11.0], dtype=float)\n",
    "ys = np.array([1.0, 1.5, 2.0, 2.5, 3.0, 3.5,  1.5,  6.0], dtype=float)\n",
    "\n",
    "model_logcosh = tf.keras.Sequential([keras.layers.Dense(units=1, input_shape=[1])])\n",
    "model_logcosh.compile(optimizer='sgd', loss='logcosh')\n",
    "model_logcosh.fit(xs, ys, epochs=1000)\n",
    "print(model_logcosh.predict([7.0]))"
   ]
  },
  {
   "cell_type": "code",
   "execution_count": null,
   "metadata": {
    "colab": {
     "base_uri": "https://localhost:8080/",
     "height": 33805
    },
    "colab_type": "code",
    "executionInfo": {
     "elapsed": 9075,
     "status": "ok",
     "timestamp": 1560375341025,
     "user": {
      "displayName": "",
      "photoUrl": "",
      "userId": ""
     },
     "user_tz": 420
    },
    "id": "PUNO2E6SeURH",
    "outputId": "a652bbbb-27b5-4992-dbcf-31cb6136246c"
   },
   "outputs": [],
   "source": [
    "# same data, try with MSE\n",
    "model_mse = tf.keras.Sequential([keras.layers.Dense(units=1, input_shape=[1])])\n",
    "model_mse.compile(optimizer='sgd', loss='mean_squared_error')\n",
    "model_mse.fit(xs, ys, epochs=1000)\n",
    "print(model_mse.predict([7.0]))"
   ]
  },
  {
   "cell_type": "markdown",
   "metadata": {},
   "source": [
    "\n",
    "Without the 10.0 outlier value, both the logcosh and the MSE predict a value of 4.00 for the 7.0 input.\n",
    "\n",
    "With a 10.0 outlier value in the sample, as can be seen from the two above tests, using the logcosh loss function returns a prediction of 3.62 versus the MSE prediction of 3.14.  This demonstrates that with the logcosh loss function, the abnormal outlier has less of an impact on the predicted value.\n"
   ]
  }
 ],
 "metadata": {
  "colab": {
   "name": "Copy of Exercise 1 - House Prices - Answer.ipynb",
   "provenance": [
    {
     "file_id": "https://github.com/lmoroney/dlaicourse/blob/master/Exercises/Exercise%201%20-%20House%20Prices/Exercise_1_House_Prices_Answer.ipynb",
     "timestamp": 1560376868578
    }
   ],
   "version": "0.3.2"
  },
  "kernelspec": {
   "display_name": "Python 3",
   "language": "python",
   "name": "python3"
  },
  "language_info": {
   "codemirror_mode": {
    "name": "ipython",
    "version": 3
   },
   "file_extension": ".py",
   "mimetype": "text/x-python",
   "name": "python",
   "nbconvert_exporter": "python",
   "pygments_lexer": "ipython3",
   "version": "3.6.8"
  }
 },
 "nbformat": 4,
 "nbformat_minor": 1
}
